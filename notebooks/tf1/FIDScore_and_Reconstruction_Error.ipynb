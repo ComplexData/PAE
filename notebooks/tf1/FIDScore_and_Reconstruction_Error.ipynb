{
 "cells": [
  {
   "cell_type": "markdown",
   "metadata": {
    "colab_type": "text",
    "id": "view-in-github"
   },
   "source": [
    "<a href=\"https://colab.research.google.com/github/VMBoehm/RNF/blob/colab/notebooks/FIDScore_and_Reconstruction_Error.ipynb\" target=\"_parent\"><img src=\"https://colab.research.google.com/assets/colab-badge.svg\" alt=\"Open In Colab\"/></a>"
   ]
  },
  {
   "cell_type": "markdown",
   "metadata": {},
   "source": [
    "### In this notebooks we measure the pixel-wise reconstruction error of a model and the FID scores of sampels and reconstructions"
   ]
  },
  {
   "cell_type": "code",
   "execution_count": 1,
   "metadata": {
    "colab": {
     "base_uri": "https://localhost:8080/",
     "height": 35
    },
    "colab_type": "code",
    "id": "D-Fe5G8m1FTC",
    "outputId": "a6d69747-006b-4635-b127-b2dc250f014e"
   },
   "outputs": [],
   "source": [
    "import tensorflow as tf\n",
    "import tensorflow_hub as hub\n",
    "from tensorflow_probability import distributions as tfd\n",
    "import tensorflow_probability as tfp\n",
    "import tensorflow_hub as hub\n",
    "tfd = tfp.distributions\n",
    "tfb = tfp.bijectors\n",
    "\n",
    "import numpy as np\n",
    "import os\n",
    "import matplotlib.pyplot as plt\n",
    "import matplotlib.cm as cm\n",
    "from matplotlib import rcParams\n",
    "import sys\n",
    "import pickle\n",
    "from functools import partial\n",
    " \n",
    "plt.rcParams.update({'font.size': 16,                                                                                                                                                    \n",
    "                     'axes.labelsize': 16, 'legend.fontsize': 12, \n",
    "                     'xtick.labelsize': 16, 'ytick.labelsize': 16, 'axes.titlesize': 16,\n",
    "                     'axes.linewidth': 1.5}) "
   ]
  },
  {
   "cell_type": "code",
   "execution_count": 2,
   "metadata": {
    "colab": {},
    "colab_type": "code",
    "id": "iB5uNHOgZIu-"
   },
   "outputs": [],
   "source": [
    "import pae.load_data as ld\n",
    "load_funcs=dict(mnist=ld.load_mnist, fmnist=ld.load_fmnist)"
   ]
  },
  {
   "cell_type": "code",
   "execution_count": 3,
   "metadata": {
    "colab": {},
    "colab_type": "code",
    "id": "zm07tsHaZIvF"
   },
   "outputs": [],
   "source": [
    "from pae.fid_score import *"
   ]
  },
  {
   "cell_type": "markdown",
   "metadata": {},
   "source": [
    "#### choose model by specifying the filename\n",
    "for VAE use *params_fmnist_-1_32_infoGAN_VAE_comp_AE_full_sigma*"
   ]
  },
  {
   "cell_type": "code",
   "execution_count": 25,
   "metadata": {},
   "outputs": [],
   "source": [
    "PROJECT_PATH = \"../../\" \n",
    "PARAMS_PATH = os.path.join(PROJECT_PATH,'params')\n",
    "param_file = 'params_fmnist_-1_32_infoGAN_AE_full_sigma'\n",
    "params      = pickle.load(open(os.path.join(PARAMS_PATH,param_file+'.pkl'),'rb'))\n",
    "params['data_dir']=os.path.join(PROJECT_PATH,'data')\n",
    "params['plot_dir']=os.path.join(PROJECT_PATH,'plots')\n",
    "params['module_dir'] = params['module_dir'].replace('../','../../')"
   ]
  },
  {
   "cell_type": "code",
   "execution_count": 26,
   "metadata": {
    "colab": {
     "base_uri": "https://localhost:8080/",
     "height": 53
    },
    "colab_type": "code",
    "id": "o5dmuROtZIvO",
    "outputId": "0441eb4e-74d9-468f-9746-3d77f062b48a"
   },
   "outputs": [],
   "source": [
    "load_func                                          = load_funcs[params['data_set']]\n",
    "x_train, y_train, x_valid, y_valid, x_test, y_test = load_func(params['data_dir'],flatten=False,params=params)\n",
    "\n",
    "if np.all(x_test)==None:\n",
    "    x_test=x_valid\n",
    "\n",
    "x_train    = x_train/255.-0.5\n",
    "x_test     = x_test/255.-0.5\n",
    "x_valid    = x_valid/255.-0.5\n"
   ]
  },
  {
   "cell_type": "code",
   "execution_count": 27,
   "metadata": {
    "colab": {},
    "colab_type": "code",
    "id": "8puPFE90P0aD"
   },
   "outputs": [],
   "source": [
    "generator_path   = os.path.join(params['module_dir'],'decoder')\n",
    "encoder_path     = os.path.join(params['module_dir'],'encoder')\n",
    "nvp_dir          = os.path.join(params['module_dir'],'nvp')"
   ]
  },
  {
   "cell_type": "code",
   "execution_count": 28,
   "metadata": {
    "colab": {
     "base_uri": "https://localhost:8080/",
     "height": 124
    },
    "colab_type": "code",
    "id": "yvTEYw44O_5q",
    "outputId": "1d9b87ae-6f71-4d34-f70d-9f28fc4133b0"
   },
   "outputs": [
    {
     "name": "stdout",
     "output_type": "stream",
     "text": [
      "INFO:tensorflow:Saver not created because there are no variables in the graph to restore\n",
      "INFO:tensorflow:Saver not created because there are no variables in the graph to restore\n",
      "INFO:tensorflow:Saver not created because there are no variables in the graph to restore\n",
      "INFO:tensorflow:Saver not created because there are no variables in the graph to restore\n",
      "INFO:tensorflow:Saver not created because there are no variables in the graph to restore\n",
      "INFO:tensorflow:Saver not created because there are no variables in the graph to restore\n"
     ]
    }
   ],
   "source": [
    "tf.reset_default_graph()\n",
    "\n",
    "data          = tf.placeholder(shape=[None]+params['data_shape'],dtype=tf.float32)\n",
    "latent_point  = tf.placeholder(shape=[None,params['latent_size']],dtype=tf.float32)\n",
    "sample_size   = tf.placeholder_with_default(params['batch_size'], shape=[])\n",
    "encoder       = hub.Module(encoder_path, trainable=False)\n",
    "decoder       = hub.Module(generator_path, trainable=False)\n",
    "nvp           = hub.Module(nvp_dir, trainable=False)\n",
    "\n",
    "prior         = tfd.MultivariateNormalDiag(tf.zeros(params['latent_size']), scale_identity_multiplier=1.0)\n",
    "\n",
    "encoded, _    = tf.split(encoder({'x':data},as_dict=True)['z'], 2, axis=-1)\n",
    "decoded       = decoder({'z':encoded},as_dict=True)['x']\n",
    "\n",
    "decoded_latent= decoder({'z':latent_point},as_dict=True)['x']\n",
    "\n",
    "sigma         = tf.reduce_mean(tf.sqrt(tf.square(data-decoded)),axis=0)\n",
    "\n",
    "samples         = prior.sample(sample_size)\n",
    "decoded_samples = decoder({'z':samples},as_dict=True)['x']\n",
    "nvp_samples         = nvp({'z_sample':np.zeros((1,params['latent_size'])),'sample_size':1, 'u_sample':samples}, as_dict=True)['fwd_pass']\n",
    "decoded_nvp_samples = decoder({'z':nvp_samples},as_dict=True)['x']"
   ]
  },
  {
   "cell_type": "code",
   "execution_count": 29,
   "metadata": {
    "colab": {},
    "colab_type": "code",
    "id": "Soh1tnGH1FTW"
   },
   "outputs": [],
   "source": [
    "sess = tf.Session()\n",
    "sess.run(tf.global_variables_initializer())"
   ]
  },
  {
   "cell_type": "markdown",
   "metadata": {},
   "source": [
    "#### measure the pixel-wise reconstruction noise and store it in the parameter file"
   ]
  },
  {
   "cell_type": "code",
   "execution_count": 30,
   "metadata": {
    "colab": {
     "base_uri": "https://localhost:8080/",
     "height": 257
    },
    "colab_type": "code",
    "id": "JPQJYIyTZIwD",
    "outputId": "6c09deb1-f54d-471a-b817-80e71a7be6cb"
   },
   "outputs": [],
   "source": [
    "rec, d            = sess.run([decoded,data], feed_dict={data:x_valid[0:params['batch_size']]})\n",
    "recs=[]\n",
    "delta = len(x_valid)%params['batch_size']\n",
    "for ii in range(10000//128):\n",
    "    recs+=[sess.run(decoded, feed_dict={data:x_valid[ii*params['batch_size']:(ii+1)*params['batch_size']]})]\n",
    "data_sample=np.concatenate((x_valid[(ii+1)*params['batch_size']:len(x_valid)],x_valid[0:params['batch_size']-delta]))\n",
    "recs+=[sess.run(decoded, feed_dict={data:data_sample})]\n",
    "recs = np.asarray(recs).reshape([-1,28,28])[0:len(x_valid)]\n",
    "\n"
   ]
  },
  {
   "cell_type": "code",
   "execution_count": 31,
   "metadata": {
    "colab": {
     "base_uri": "https://localhost:8080/",
     "height": 35
    },
    "colab_type": "code",
    "id": "F419KQ9MdkvX",
    "outputId": "e2ec60e5-df47-4a92-e556-fd767182b9f6"
   },
   "outputs": [
    {
     "data": {
      "image/png": "[encoded data removed]",
      "text/plain": [
       "<Figure size 432x288 with 2 Axes>"
      ]
     },
     "metadata": {
      "needs_background": "light"
     },
     "output_type": "display_data"
    },
    {
     "name": "stdout",
     "output_type": "stream",
     "text": [
      "mean variance 0.0064169885135109015\n",
      "minimum variance 9.336173410118349e-08\n",
      "maximal variance 0.014054405703379798\n"
     ]
    }
   ],
   "source": [
    "full_sigma = np.sqrt(np.mean(np.square(x_valid.reshape([-1,28,28])-recs.reshape(-1,28,28)),axis=0))\n",
    "mean_sigma = np.mean(full_sigma)\n",
    "mean_var   = np.mean(full_sigma**2)\n",
    "plt.figure()\n",
    "plt.title('pixel-wise variance')\n",
    "plt.imshow((full_sigma**2).reshape(28,28), cmap='gray')\n",
    "plt.colorbar()\n",
    "plt.axis('off')\n",
    "plt.savefig(os.path.join(params['plot_dir'],'measured_sigma.pdf'),bbox_inches='tight')\n",
    "plt.show()\n",
    "params['full_sigma']=full_sigma\n",
    "pickle.dump(params,open(os.path.join(PARAMS_PATH,param_file+'.pkl'),'wb'))\n",
    "print('mean variance', mean_var)\n",
    "print('minimum variance', np.min(full_sigma**2))\n",
    "print('maximal variance', np.max(full_sigma**2))"
   ]
  },
  {
   "cell_type": "markdown",
   "metadata": {},
   "source": [
    "#### make the plots of reconstructions and samples that go into the paper"
   ]
  },
  {
   "cell_type": "code",
   "execution_count": 36,
   "metadata": {
    "colab": {
     "base_uri": "https://localhost:8080/",
     "height": 466
    },
    "colab_type": "code",
    "id": "Co4Q9zkeZIwK",
    "outputId": "355b287d-98b8-490b-f7d2-103c3525d416"
   },
   "outputs": [
    {
     "data": {
      "image/png": "[encoded data removed]",
      "text/plain": [
       "<Figure size 288x288 with 16 Axes>"
      ]
     },
     "metadata": {
      "needs_background": "light"
     },
     "output_type": "display_data"
    },
    {
     "data": {
      "image/png": "[encoded data removed]",
      "text/plain": [
       "<Figure size 288x288 with 16 Axes>"
      ]
     },
     "metadata": {
      "needs_background": "light"
     },
     "output_type": "display_data"
    }
   ],
   "source": [
    "random_nvp_samples = sess.run(decoded_nvp_samples)\n",
    "jj=1\n",
    "plt.figure(figsize=(4,4))\n",
    "plt.subplots_adjust(left=None, bottom=None, right=None, top=None, wspace=0.05, hspace=0.05)\n",
    "for ii in range(16):\n",
    "    plt.subplot(4,4,ii+1)\n",
    "    plt.imshow((d[ii]+0.5).reshape(28,28),cmap='gray',vmin=0, vmax=1)\n",
    "    plt.axis('off')\n",
    "plt.savefig(os.path.join(params['plot_dir'],'orig_valid_set.pdf'),bbox_inches='tight')\n",
    "plt.show()\n",
    "\n",
    "plt.figure(figsize=(4,4))\n",
    "plt.subplots_adjust(left=None, bottom=None, right=None, top=None, wspace=0.05, hspace=0.05)\n",
    "for ii in range(16):\n",
    "    plt.subplot(4,4,ii+1)\n",
    "    plt.imshow((rec[ii]+0.5).reshape(28,28),cmap='gray',vmin=0, vmax=1)\n",
    "    plt.axis('off')\n",
    "\n",
    "plt.savefig(os.path.join(params['plot_dir'],'rec_valid_set.pdf'),bbox_inches='tight')\n",
    "plt.show()"
   ]
  },
  {
   "cell_type": "code",
   "execution_count": 37,
   "metadata": {
    "colab": {
     "base_uri": "https://localhost:8080/",
     "height": 194
    },
    "colab_type": "code",
    "id": "f2_MQzntZIwQ",
    "outputId": "e7b3bcc9-11a2-420e-d7ff-d81a6b19de56"
   },
   "outputs": [
    {
     "data": {
      "image/png": "[encoded data removed]",
      "text/plain": [
       "<Figure size 288x288 with 16 Axes>"
      ]
     },
     "metadata": {
      "needs_background": "light"
     },
     "output_type": "display_data"
    },
    {
     "data": {
      "image/png": "[encoded data removed]",
      "text/plain": [
       "<Figure size 288x288 with 16 Axes>"
      ]
     },
     "metadata": {
      "needs_background": "light"
     },
     "output_type": "display_data"
    }
   ],
   "source": [
    "random_nvp_samples=[]\n",
    "for ii in range(10000//128+1):\n",
    "    random_nvp_samples+=[sess.run(decoded_nvp_samples)]\n",
    "random_nvp_samples=np.asarray(random_nvp_samples).reshape((-1,28,28))[0:10000]\n",
    "plt.figure(figsize=(4,4))\n",
    "plt.subplots_adjust(left=None, bottom=None, right=None, top=None, wspace=0.05, hspace=0.05)\n",
    "for ii in range(16):\n",
    "    plt.subplot(4,4,ii+1)\n",
    "    plt.imshow((random_nvp_samples[ii]+0.5).reshape(28,28),cmap='gray',vmin=0, vmax=1)\n",
    "    plt.axis('off')\n",
    "plt.savefig(os.path.join(params['plot_dir'],'nvp_samples.pdf'),bbox_inches='tight')\n",
    "plt.show()\n",
    "\n",
    "random_samples=[]\n",
    "for ii in range(10000//128+1):\n",
    "    random_samples+=[sess.run(decoded_samples)]\n",
    "random_samples=np.asarray(random_samples).reshape((-1,28,28))[0:10000]\n",
    "\n",
    "plt.figure(figsize=(4,4))\n",
    "plt.subplots_adjust(left=None, bottom=None, right=None, top=None, wspace=0.05, hspace=0.05)\n",
    "for ii in range(16):\n",
    "    plt.subplot(4,4,ii+1)\n",
    "    plt.imshow((random_samples[ii]+0.5).reshape(28,28),cmap='gray',vmin=0, vmax=1)\n",
    "    plt.axis('off')\n",
    "plt.savefig(os.path.join(params['plot_dir'],'raw_samples.pdf'),bbox_inches='tight')\n",
    "plt.show()"
   ]
  },
  {
   "cell_type": "markdown",
   "metadata": {},
   "source": [
    "#### measure the FID scores. For the FID score measurement we use code from https://github.com/daib13/TwoStageVAE/blob/master/fid_score.py"
   ]
  },
  {
   "cell_type": "code",
   "execution_count": 38,
   "metadata": {
    "colab": {},
    "colab_type": "code",
    "id": "5WnTsbdhZIwp"
   },
   "outputs": [],
   "source": [
    "def evaluate_fid_score(fake_images, real_images,norm=True):\n",
    "    np.random.shuffle(real_images)\n",
    "    assert(len(real_images)>=10000)\n",
    "    assert(len(real_images)>=10000)\n",
    "    real_images = real_images[0:10000]\n",
    "    fake_images = fake_images[0:10000]\n",
    "    real_images = preprocess_fake_images(real_images, norm)\n",
    "    fake_images = preprocess_fake_images(fake_images, norm)\n",
    "    print(real_images.shape)\n",
    "    inception_path = check_or_download_inception()\n",
    "\n",
    "    create_inception_graph(inception_path)\n",
    "    sess = tf.InteractiveSession()\n",
    "    sess.run(tf.global_variables_initializer())\n",
    "\n",
    "    print('calculating tf features...')\n",
    "    real_out = get_activations_tf(real_images, sess)\n",
    "    fake_out = get_activations_tf(fake_images, sess)\n",
    "    fid_result = fid_score(real_out, fake_out)\n",
    "\n",
    "    return fid_result"
   ]
  },
  {
   "cell_type": "code",
   "execution_count": 39,
   "metadata": {},
   "outputs": [
    {
     "name": "stdout",
     "output_type": "stream",
     "text": [
      "norm =  True\n",
      "norm =  True\n",
      "(10000, 28, 28, 3)\n",
      "Downloading Inception model\n",
      "WARNING:tensorflow:From /global/u2/v/vboehm/codes/PAE/pae/fid_score.py:32: FastGFile.__init__ (from tensorflow.python.platform.gfile) is deprecated and will be removed in a future version.\n",
      "Instructions for updating:\n",
      "Use tf.gfile.GFile.\n",
      "WARNING:tensorflow:From /global/u2/v/vboehm/codes/PAE/pae/fid_score.py:33: The name tf.GraphDef is deprecated. Please use tf.compat.v1.GraphDef instead.\n",
      "\n",
      "calculating tf features...\n"
     ]
    },
    {
     "data": {
      "text/plain": [
       "103.55142702304879"
      ]
     },
     "execution_count": 39,
     "metadata": {},
     "output_type": "execute_result"
    }
   ],
   "source": [
    "evaluate_fid_score(np.expand_dims(np.reshape(x_valid,(-1,28,28)),-1), np.expand_dims(np.reshape(random_samples,(-1,28,28)),-1))"
   ]
  },
  {
   "cell_type": "code",
   "execution_count": 40,
   "metadata": {
    "colab": {
     "base_uri": "https://localhost:8080/",
     "height": 162
    },
    "colab_type": "code",
    "id": "jCjX3236ZIwt",
    "outputId": "0047a66c-9c81-4b67-aea7-c9ac07a39886"
   },
   "outputs": [
    {
     "name": "stdout",
     "output_type": "stream",
     "text": [
      "norm =  True\n",
      "norm =  True\n",
      "(10000, 28, 28, 3)\n"
     ]
    },
    {
     "name": "stderr",
     "output_type": "stream",
     "text": [
      "/global/homes/v/vboehm/.conda/envs/tflowRNF/lib/python3.7/site-packages/tensorflow_core/python/client/session.py:1750: UserWarning: An interactive session is already active. This can cause out-of-memory errors in some cases. You must explicitly call `InteractiveSession.close()` to release resources held by the other session(s).\n",
      "  warnings.warn('An interactive session is already active. This can '\n"
     ]
    },
    {
     "name": "stdout",
     "output_type": "stream",
     "text": [
      "calculating tf features...\n"
     ]
    },
    {
     "data": {
      "text/plain": [
       "34.965404581144206"
      ]
     },
     "execution_count": 40,
     "metadata": {},
     "output_type": "execute_result"
    }
   ],
   "source": [
    "evaluate_fid_score(np.expand_dims(np.reshape(x_valid,(-1,28,28)),-1), np.expand_dims(np.reshape(random_nvp_samples,(-1,28,28)),-1))"
   ]
  },
  {
   "cell_type": "code",
   "execution_count": 41,
   "metadata": {
    "colab": {
     "base_uri": "https://localhost:8080/",
     "height": 162
    },
    "colab_type": "code",
    "id": "TUM_reCrSzb1",
    "outputId": "29a9e848-73fd-4717-dfe1-94ddfc068aaf"
   },
   "outputs": [
    {
     "name": "stdout",
     "output_type": "stream",
     "text": [
      "norm =  True\n",
      "norm =  True\n",
      "(10000, 28, 28, 3)\n",
      "calculating tf features...\n"
     ]
    },
    {
     "data": {
      "text/plain": [
       "31.452829117423025"
      ]
     },
     "execution_count": 41,
     "metadata": {},
     "output_type": "execute_result"
    }
   ],
   "source": [
    "evaluate_fid_score(np.expand_dims(np.reshape(x_valid,(-1,28,28)),-1), np.expand_dims(np.reshape(recs,(-1,28,28)),-1))"
   ]
  },
  {
   "cell_type": "code",
   "execution_count": 42,
   "metadata": {
    "colab": {},
    "colab_type": "code",
    "id": "jX2e3MODW6qx"
   },
   "outputs": [
    {
     "name": "stdout",
     "output_type": "stream",
     "text": [
      "norm =  True\n",
      "norm =  True\n",
      "(10000, 28, 28, 3)\n",
      "calculating tf features...\n"
     ]
    },
    {
     "data": {
      "text/plain": [
       "2.55518915384563"
      ]
     },
     "execution_count": 42,
     "metadata": {},
     "output_type": "execute_result"
    }
   ],
   "source": [
    "evaluate_fid_score(np.expand_dims(np.reshape(x_valid,(-1,28,28)),-1), np.expand_dims(np.reshape(x_train,(-1,28,28)),-1))"
   ]
  },
  {
   "cell_type": "code",
   "execution_count": null,
   "metadata": {},
   "outputs": [],
   "source": []
  }
 ],
 "metadata": {
  "accelerator": "GPU",
  "colab": {
   "collapsed_sections": [],
   "include_colab_link": true,
   "name": "FIDScore and Reconstruction Error.ipynb",
   "provenance": []
  },
  "kernelspec": {
   "display_name": "my_tflow",
   "language": "python",
   "name": "my_tflow"
  },
  "language_info": {
   "codemirror_mode": {
    "name": "ipython",
    "version": 3
   },
   "file_extension": ".py",
   "mimetype": "text/x-python",
   "name": "python",
   "nbconvert_exporter": "python",
   "pygments_lexer": "ipython3",
   "version": "3.7.4"
  }
 },
 "nbformat": 4,
 "nbformat_minor": 4
}
